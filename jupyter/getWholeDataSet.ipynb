{
 "cells": [
  {
   "cell_type": "code",
   "execution_count": 1,
   "metadata": {},
   "outputs": [],
   "source": [
    "import h5py\n",
    "import numpy"
   ]
  },
  {
   "cell_type": "code",
   "execution_count": null,
   "metadata": {},
   "outputs": [],
   "source": [
    "fileNameList\n",
    "f = open('../data/6mo_data.txt')\n",
    "for line in f.readlines():\n",
    "    cols = line.split(\"\\t\")\n",
    "    \n",
    "    #日期\n",
    "    date = cols[0]\n",
    "    \n",
    "    #台区总表计数和所有分表计数之和的差值\n",
    "    delta = cols[1]\n",
    "    \n",
    "    \n",
    "    #台区总表读数\n",
    "    all_readout = line.split(\"\\t\")[2].split()\n",
    "    total_readout = float(all_readout[0])\n",
    "    #所有分表读数 245 cols\n",
    "    sub_readout = np.array(all_readout[1:],dtype=\"float32\")\n",
    "    \n",
    "    #print(total_readout-np.sum(sub_readout))"
   ]
  }
 ],
 "metadata": {
  "kernelspec": {
   "display_name": "ML",
   "language": "python",
   "name": "ml"
  },
  "language_info": {
   "codemirror_mode": {
    "name": "ipython",
    "version": 3
   },
   "file_extension": ".py",
   "mimetype": "text/x-python",
   "name": "python",
   "nbconvert_exporter": "python",
   "pygments_lexer": "ipython3",
   "version": "3.7.3"
  }
 },
 "nbformat": 4,
 "nbformat_minor": 2
}
